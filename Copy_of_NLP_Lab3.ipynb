{
  "nbformat": 4,
  "nbformat_minor": 0,
  "metadata": {
    "colab": {
      "provenance": [],
      "include_colab_link": true
    },
    "kernelspec": {
      "name": "python3",
      "display_name": "Python 3"
    },
    "language_info": {
      "name": "python"
    }
  },
  "cells": [
    {
      "cell_type": "markdown",
      "metadata": {
        "id": "view-in-github",
        "colab_type": "text"
      },
      "source": [
        "<a href=\"https://colab.research.google.com/github/Ayush-mishra-0-0/NLP/blob/main/Copy_of_NLP_Lab3.ipynb\" target=\"_parent\"><img src=\"https://colab.research.google.com/assets/colab-badge.svg\" alt=\"Open In Colab\"/></a>"
      ]
    },
    {
      "cell_type": "markdown",
      "source": [
        "Link for some senetences and its corresponding dependency trees [Universal Dependencies](https://github.com/UniversalDependencies/UD_English-EWT/blob/master/en_ewt-ud-train.conllu)"
      ],
      "metadata": {
        "id": "2YXxat_zG3cp"
      }
    },
    {
      "cell_type": "markdown",
      "source": [
        "***Steps to read from the file:***\n",
        "\n"
      ],
      "metadata": {
        "id": "M9gO6wxvHaMX"
      }
    },
    {
      "cell_type": "code",
      "source": [
        "!pip install conllu"
      ],
      "metadata": {
        "colab": {
          "base_uri": "https://localhost:8080/"
        },
        "id": "gPgjygOTt698",
        "outputId": "d3c5ccfc-2e7d-4683-f482-c21af8b6f53f"
      },
      "execution_count": 23,
      "outputs": [
        {
          "output_type": "stream",
          "name": "stdout",
          "text": [
            "Requirement already satisfied: conllu in /usr/local/lib/python3.10/dist-packages (5.0.2)\n"
          ]
        }
      ]
    },
    {
      "cell_type": "code",
      "source": [
        "import conllu\n",
        "file_path = \"/content/test.conllu\"\n",
        "\n",
        "with open(file_path, \"r\", encoding=\"utf-8\") as file:\n",
        "\n",
        "    sentences = conllu.parse(file.read())"
      ],
      "metadata": {
        "id": "FUtbKAD9HV6D"
      },
      "execution_count": 24,
      "outputs": []
    },
    {
      "cell_type": "code",
      "source": [
        "import conllu\n",
        "import numpy as np\n",
        "from collections import Counter\n",
        "from sklearn.model_selection import train_test_split\n",
        "\n",
        "\n",
        "def load_conllu_data(file_path):\n",
        "    \"\"\"\n",
        "    Load and parse a .conllu file.\n",
        "\n",
        "    Args:\n",
        "    file_path (str): Path to the .conllu file\n",
        "\n",
        "    Returns:\n",
        "    list: List of sentences\n",
        "    list: List of dependency trees\n",
        "    \"\"\"\n",
        "    with open(file_path, 'r', encoding='utf-8') as f:\n",
        "        data = f.read()\n",
        "\n",
        "    parsed_data = conllu.parse(data)\n",
        "    sentences = []\n",
        "    trees = []\n",
        "\n",
        "    for sentence in parsed_data:\n",
        "        words = [token['form'] for token in sentence]\n",
        "        dependencies = [(token['head'], token['id']) for token in sentence if token['head'] != 0]\n",
        "        dependencies.append((0, sentence.to_tree().token['id']))  # Add ROOT\n",
        "\n",
        "        sentences.append(words)\n",
        "        trees.append(dependencies)\n",
        "\n",
        "    return sentences, trees"
      ],
      "metadata": {
        "id": "96nXFF5rViaS"
      },
      "execution_count": 25,
      "outputs": []
    },
    {
      "cell_type": "markdown",
      "source": [
        "Q1.Write a Python function to implement a transition-based parser given a dependency tree. The parser should take a sequence of tokens as input and return a valid parse tree if possible, otherwise, it should return an error."
      ],
      "metadata": {
        "id": "-RyEO3rRBeoy"
      }
    },
    {
      "cell_type": "code",
      "source": [
        "class DependencyParser:\n",
        "    def __init__(self, sentence):\n",
        "        \"\"\"Initializes the parser with a sentence (sequence of tokens).\"\"\"\n",
        "        self.stack = [\"ROOT\"]  # The stack starts with the root element.\n",
        "        self.buffer = sentence.copy()  # The buffer starts with the tokens.\n",
        "        self.dependencies = []  # Dependencies will be stored as a list of (head, dependent) tuples.\n",
        "\n",
        "    def parse_step(self, transition):\n",
        "        \"\"\"Applies a transition (Shift, Left-Arc, or Right-Arc).\"\"\"\n",
        "        if transition == \"S\":  # Shift transition\n",
        "            if self.buffer:\n",
        "                self.stack.append(self.buffer.pop(0))\n",
        "            else:\n",
        "                raise ValueError(\"Buffer is empty, cannot shift!\")\n",
        "        elif transition == \"LA\":  # Left-Arc transition\n",
        "            if len(self.stack) > 1:\n",
        "                head = self.stack[-1]\n",
        "                dependent = self.stack.pop(-2)\n",
        "                self.dependencies.append((head, dependent))\n",
        "            else:\n",
        "                raise ValueError(\"Stack too small for Left-Arc!\")\n",
        "        elif transition == \"RA\":  # Right-Arc transition\n",
        "            if len(self.stack) > 1:\n",
        "                head = self.stack[-2]\n",
        "                dependent = self.stack.pop(-1)\n",
        "                self.dependencies.append((head, dependent))\n",
        "            else:\n",
        "                raise ValueError(\"Stack too small for Right-Arc!\")\n",
        "        else:\n",
        "            raise ValueError(f\"Invalid transition: {transition}\")\n",
        "\n",
        "    def parse(self, transitions):\n",
        "        \"\"\"Executes a sequence of transitions on the sentence.\"\"\"\n",
        "        try:\n",
        "            for transition in transitions:\n",
        "                self.parse_step(transition)\n",
        "            if len(self.stack) == 1 and not self.buffer:\n",
        "                return self.dependencies  # Successfully parsed\n",
        "            else:\n",
        "                return \"Error: Incomplete parse.\"\n",
        "        except ValueError as e:\n",
        "            return f\"Error: {str(e)}\"\n",
        "\n",
        "# Example usage\n",
        "def transition_based_parser(tokens, transitions):\n",
        "    parser = DependencyParser(tokens)\n",
        "    return parser.parse(transitions)\n",
        "\n",
        "# Test case\n",
        "tokens = [\"I\", \"love\", \"Python\"]\n",
        "transitions = [\"S\", \"S\", \"S\", \"LA\", \"RA\", \"RA\"]\n",
        "dependencies = transition_based_parser(tokens, transitions)\n",
        "\n",
        "print(\"Dependencies:\", dependencies)\n"
      ],
      "metadata": {
        "id": "Ua8AV6_WBhOb",
        "colab": {
          "base_uri": "https://localhost:8080/"
        },
        "outputId": "dd4bf853-8a23-455b-f249-b33670e093f2"
      },
      "execution_count": 26,
      "outputs": [
        {
          "output_type": "stream",
          "name": "stdout",
          "text": [
            "Dependencies: [('Python', 'love'), ('I', 'Python'), ('ROOT', 'I')]\n"
          ]
        }
      ]
    },
    {
      "cell_type": "markdown",
      "source": [
        "Q2.Train a transition-based parser using an oracle (training data). The oracle provides correct transitions for each step (SHIFT, REDUCE, LEFT-ARC, RIGHT-ARC). Implement a function that learns these transitions from a dataset of sentences paired with their dependency trees."
      ],
      "metadata": {
        "id": "589n2XfhBkqn"
      }
    },
    {
      "cell_type": "code",
      "source": [
        "import numpy as np\n",
        "from collections import Counter\n",
        "\n",
        "class PartialParse(object):\n",
        "    def __init__(self, sentence):\n",
        "        self.stack = [\"ROOT\"]\n",
        "        self.buffer = list(sentence)\n",
        "        self.dependencies = []\n",
        "\n",
        "    def parse_step(self, transition):\n",
        "        if transition == \"S\" and self.buffer:\n",
        "            self.stack.append(self.buffer.pop(0))\n",
        "        elif transition == \"LA\" and len(self.stack) >= 2:\n",
        "            dependent = self.stack[-2]\n",
        "            head = self.stack[-1]\n",
        "            self.dependencies.append((head, dependent))\n",
        "            self.stack.pop(-2)\n",
        "        elif transition == \"RA\" and len(self.stack) >= 2:\n",
        "            head = self.stack[-2]\n",
        "            dependent = self.stack[-1]\n",
        "            self.dependencies.append((head, dependent))\n",
        "            self.stack.pop()\n",
        "\n",
        "class TransitionParser:\n",
        "    def __init__(self):\n",
        "        self.transitions = ['S', 'LA', 'RA']\n",
        "        self.features = {}\n",
        "        self.weights = None\n",
        "\n",
        "    def extract_features(self, partial_parse):\n",
        "        stack = partial_parse.stack\n",
        "        buffer = partial_parse.buffer\n",
        "\n",
        "        features = [\n",
        "            f\"S0={stack[-1] if len(stack) > 0 else 'NULL'}\",\n",
        "            f\"S1={stack[-2] if len(stack) > 1 else 'NULL'}\",\n",
        "            f\"B0={buffer[0] if len(buffer) > 0 else 'NULL'}\",\n",
        "            f\"B1={buffer[1] if len(buffer) > 1 else 'NULL'}\"\n",
        "        ]\n",
        "        return features\n",
        "\n",
        "    def predict(self, partial_parse):\n",
        "        features = self.extract_features(partial_parse)\n",
        "        scores = np.zeros(len(self.transitions))\n",
        "\n",
        "        for feature in features:\n",
        "            for i, transition in enumerate(self.transitions):\n",
        "                feature_transition = f\"{feature}|{transition}\"\n",
        "                if feature_transition in self.features:\n",
        "                    scores[i] += self.weights[self.features[feature_transition]]\n",
        "\n",
        "        # Prevent invalid transitions\n",
        "        if not partial_parse.buffer:\n",
        "            scores[self.transitions.index('S')] = float('-inf')\n",
        "        if len(partial_parse.stack) < 2:\n",
        "            scores[self.transitions.index('LA')] = float('-inf')\n",
        "            scores[self.transitions.index('RA')] = float('-inf')\n",
        "\n",
        "        return self.transitions[np.argmax(scores)]\n",
        "\n",
        "    def parse(self, sentence):\n",
        "        partial_parse = PartialParse(sentence)\n",
        "        while len(partial_parse.buffer) > 0 or len(partial_parse.stack) > 1:\n",
        "            transition = self.predict(partial_parse)\n",
        "            partial_parse.parse_step(transition)\n",
        "            if transition == 'S' and not partial_parse.buffer:\n",
        "                break  # Stop if we try to shift from an empty buffer\n",
        "        return partial_parse.dependencies\n",
        "\n",
        "    def train(self, sentences, dependency_trees):\n",
        "        feature_counts = Counter()\n",
        "        transition_counts = Counter()\n",
        "\n",
        "        for sentence, tree in zip(sentences, dependency_trees):\n",
        "            partial_parse = PartialParse(sentence)\n",
        "            while len(partial_parse.buffer) > 0 or len(partial_parse.stack) > 1:\n",
        "                features = self.extract_features(partial_parse)\n",
        "                correct_transition = self.get_oracle_transition(partial_parse, tree)\n",
        "\n",
        "                if correct_transition is None:\n",
        "                    break\n",
        "\n",
        "                for feature in features:\n",
        "                    feature_counts[f\"{feature}|{correct_transition}\"] += 1\n",
        "                transition_counts[correct_transition] += 1\n",
        "\n",
        "                partial_parse.parse_step(correct_transition)\n",
        "\n",
        "        self.features = {f: i for i, f in enumerate(feature_counts.keys())}\n",
        "        self.weights = np.zeros(len(self.features))\n",
        "\n",
        "        for feature, count in feature_counts.items():\n",
        "            transition = feature.split('|')[-1]\n",
        "            self.weights[self.features[feature]] = count / transition_counts[transition]\n",
        "\n",
        "    def get_oracle_transition(self, partial_parse, tree):\n",
        "        if len(partial_parse.buffer) == 0:\n",
        "            return 'RA' if len(partial_parse.stack) > 1 else None\n",
        "        if len(partial_parse.stack) < 2:\n",
        "            return 'S'\n",
        "\n",
        "        stack_top = partial_parse.stack[-1]\n",
        "        stack_second = partial_parse.stack[-2]\n",
        "\n",
        "        for head, dependent in tree:\n",
        "            if head == stack_second and dependent == stack_top:\n",
        "                return 'LA'\n",
        "            if head == stack_top and dependent == stack_second:\n",
        "                return 'RA'\n",
        "\n",
        "        return 'S'\n",
        "\n",
        "# Example usage\n",
        "parser = TransitionParser()\n",
        "\n",
        "# Training data\n",
        "sentences = [\n",
        "    [\"I\", \"love\", \"Python\"],\n",
        "    [\"The\", \"dog\", \"chased\", \"the\", \"cat\"]\n",
        "]\n",
        "dependency_trees = [\n",
        "    [(\"ROOT\", \"love\"), (\"love\", \"I\"), (\"love\", \"Python\")],\n",
        "    [(\"ROOT\", \"chased\"), (\"chased\", \"dog\"), (\"dog\", \"The\"), (\"chased\", \"cat\"), (\"cat\", \"the\")]\n",
        "]\n",
        "\n",
        "# Train the parser\n",
        "parser.train(sentences, dependency_trees)\n",
        "\n",
        "print(\"Training complete. Feature weights:\")\n",
        "for feature, index in parser.features.items():\n",
        "    print(f\"{feature}: {parser.weights[index]}\")\n",
        "\n",
        "# Parse a new sentence\n",
        "new_sentence = [\"The\", \"dog\", \"chased\", \"the\", \"ball\"]\n",
        "parsed_tree = parser.parse(new_sentence)\n",
        "\n",
        "print(\"\\nPredicted parse tree:\")\n",
        "for head, dependent in parsed_tree:\n",
        "    print(f\"{head} -> {dependent}\")"
      ],
      "metadata": {
        "colab": {
          "base_uri": "https://localhost:8080/"
        },
        "id": "D5C9MWDa0Hns",
        "outputId": "2a1d4651-6bce-4ade-f409-27fa4141eb15"
      },
      "execution_count": 27,
      "outputs": [
        {
          "output_type": "stream",
          "name": "stdout",
          "text": [
            "Training complete. Feature weights:\n",
            "S0=ROOT|S: 0.25\n",
            "S1=NULL|S: 0.25\n",
            "B0=I|S: 0.125\n",
            "B1=love|S: 0.125\n",
            "S0=I|S: 0.25\n",
            "S1=ROOT|S: 0.5\n",
            "B0=love|S: 0.125\n",
            "B1=Python|S: 0.125\n",
            "S0=love|RA: 0.125\n",
            "S1=I|RA: 0.25\n",
            "B0=Python|RA: 0.125\n",
            "B1=NULL|RA: 0.875\n",
            "B0=Python|S: 0.125\n",
            "B1=NULL|S: 0.25\n",
            "S0=Python|RA: 0.125\n",
            "B0=NULL|RA: 0.75\n",
            "S0=I|RA: 0.125\n",
            "S1=ROOT|RA: 0.25\n",
            "B0=The|S: 0.125\n",
            "B1=dog|S: 0.125\n",
            "S0=The|S: 0.25\n",
            "B0=dog|S: 0.125\n",
            "B1=chased|S: 0.125\n",
            "S0=dog|RA: 0.125\n",
            "S1=The|RA: 0.25\n",
            "B0=chased|RA: 0.125\n",
            "B1=the|RA: 0.125\n",
            "B0=chased|S: 0.125\n",
            "B1=the|S: 0.125\n",
            "S0=chased|S: 0.125\n",
            "S1=The|S: 0.125\n",
            "B0=the|S: 0.125\n",
            "B1=cat|S: 0.125\n",
            "S0=the|S: 0.125\n",
            "S1=chased|S: 0.125\n",
            "B0=cat|S: 0.125\n",
            "S0=cat|RA: 0.125\n",
            "S1=the|RA: 0.125\n",
            "S0=the|RA: 0.125\n",
            "S1=chased|RA: 0.125\n",
            "S0=chased|RA: 0.125\n",
            "S0=The|RA: 0.125\n",
            "\n",
            "Predicted parse tree:\n",
            "The -> dog\n",
            "chased -> the\n",
            "The -> chased\n",
            "ROOT -> The\n"
          ]
        }
      ]
    },
    {
      "cell_type": "markdown",
      "source": [
        "Q3.Using the trained transition-based parser in Q2, implement a function that takes a new sentence as input and predicts its parse tree using the learned transitions."
      ],
      "metadata": {
        "id": "2LPTHMTTBvCU"
      }
    },
    {
      "cell_type": "code",
      "source": [
        "parser = TransitionParser()\n",
        "# We need to set up the features and weights as if they were trained\n",
        "parser.features = {\n",
        "    \"S0=cat|S\": 0, \"S0=cat|LA\": 1, \"S0=cat|RA\": 2,\n",
        "    \"S1=The|S\": 3, \"S1=The|LA\": 4, \"S1=The|RA\": 5,\n",
        "    \"B0=sat|S\": 6, \"B0=sat|LA\": 7, \"B0=sat|RA\": 8,\n",
        "}\n",
        "parser.weights = np.random.rand(len(parser.features))\n",
        "\n",
        "# Parse a new sentence\n",
        "new_sentence = [\"The\", \"dog\", \"chased\", \"the\", \"ball\"]\n",
        "parsed_tree = parser.parse(new_sentence)\n",
        "\n",
        "print(\"Predicted parse tree:\")\n",
        "for head, dependent in parsed_tree:\n",
        "    print(f\"{head} -> {dependent}\")"
      ],
      "metadata": {
        "id": "S9325TUnB6jr",
        "colab": {
          "base_uri": "https://localhost:8080/"
        },
        "outputId": "e97f57e5-efe4-4d87-895e-3bf55a5e0bc4"
      },
      "execution_count": 28,
      "outputs": [
        {
          "output_type": "stream",
          "name": "stdout",
          "text": [
            "Predicted parse tree:\n"
          ]
        }
      ]
    },
    {
      "cell_type": "markdown",
      "source": [
        "Q4.Write a function to evaluate the accuracy of your trained parser. Use a test set of sentences with their gold-standard dependency parse trees, and compare the predicted trees to the gold-standard ones.Show the distribution of the parsing that gives the most error."
      ],
      "metadata": {
        "id": "ypkVUtI_B7C2"
      }
    },
    {
      "cell_type": "markdown",
      "source": [
        "\n",
        "## Evaluate the parser's accuracy on a test set.\n",
        "\n",
        "Args:\n",
        "parser (TransitionParser): The trained parser\n",
        "test_sentences (list): List of test sentences\n",
        "gold_trees (list): List of gold-standard dependency trees\n",
        "\n",
        "Returns:\n",
        "float: Overall accuracy\n",
        "dict: Detailed metrics\n",
        "list: List of errors for error analysis\n"
      ],
      "metadata": {
        "id": "nfG60sQhbvbs"
      }
    },
    {
      "cell_type": "code",
      "source": [
        "import numpy as np\n",
        "from collections import Counter\n",
        "import matplotlib.pyplot as plt\n",
        "\n",
        "def evaluate_parser(parser, test_sentences, gold_trees):\n",
        "\n",
        "    correct_attachments = 0\n",
        "    total_attachments = 0\n",
        "    errors = []\n",
        "\n",
        "    for sentence, gold_tree in zip(test_sentences, gold_trees):\n",
        "        predicted_tree = parser.parse(sentence)\n",
        "        predicted_set = set(predicted_tree)\n",
        "        gold_set = set(gold_tree)\n",
        "\n",
        "        correct_attachments += len(predicted_set.intersection(gold_set))\n",
        "        total_attachments += len(gold_set)\n",
        "\n",
        "        # Collect errors for analysis\n",
        "        errors.extend([(dep, 'false_positive') for dep in predicted_set - gold_set])\n",
        "        errors.extend([(dep, 'false_negative') for dep in gold_set - predicted_set])\n",
        "\n",
        "    accuracy = correct_attachments / total_attachments if total_attachments > 0 else 0\n",
        "\n",
        "    # Calculate precision, recall, and F1 score\n",
        "    true_positives = correct_attachments\n",
        "    false_positives = sum(1 for _, error_type in errors if error_type == 'false_positive')\n",
        "    false_negatives = sum(1 for _, error_type in errors if error_type == 'false_negative')\n",
        "\n",
        "    precision = true_positives / (true_positives + false_positives) if (true_positives + false_positives) > 0 else 0\n",
        "    recall = true_positives / (true_positives + false_negatives) if (true_positives + false_negatives) > 0 else 0\n",
        "    f1_score = 2 * (precision * recall) / (precision + recall) if (precision + recall) > 0 else 0\n",
        "\n",
        "    metrics = {\n",
        "        'accuracy': accuracy,\n",
        "        'precision': precision,\n",
        "        'recall': recall,\n",
        "        'f1_score': f1_score\n",
        "    }\n",
        "\n",
        "    return accuracy, metrics, errors\n",
        "\n",
        "def analyze_errors(errors):\n",
        "    \"\"\"\n",
        "    Analyze the distribution of parsing errors.\n",
        "\n",
        "    Args:\n",
        "    errors (list): List of errors from the evaluation function\n",
        "\n",
        "    Returns:\n",
        "    Counter: Distribution of error types\n",
        "    \"\"\"\n",
        "    error_types = Counter()\n",
        "    for (head, dependent), error_type in errors:\n",
        "        error_types[f\"{error_type}_{head}\"] += 1\n",
        "    return error_types\n",
        "\n",
        "def plot_error_distribution(error_distribution):\n",
        "    \"\"\"\n",
        "    Plot the distribution of parsing errors.\n",
        "\n",
        "    Args:\n",
        "    error_distribution (Counter): Distribution of error types\n",
        "    \"\"\"\n",
        "    labels, values = zip(*error_distribution.most_common(10))  # Top 10 error types\n",
        "    plt.figure(figsize=(12, 6))\n",
        "    plt.bar(labels, values)\n",
        "    plt.title('Top 10 Parsing Error Types')\n",
        "    plt.xlabel('Error Type')\n",
        "    plt.ylabel('Frequency')\n",
        "    plt.xticks(rotation=45, ha='right')\n",
        "    plt.tight_layout()\n",
        "    plt.show()\n",
        "\n",
        "# Example usage\n",
        "if __name__ == \"__main__\":\n",
        "    # Assume we have a trained parser\n",
        "    parser = TransitionParser()\n",
        "    # ... (load trained features and weights here) ...\n",
        "\n",
        "    # Example test set (you would have a larger, more diverse set in practice)\n",
        "    test_sentences = [\n",
        "        [\"The\", \"cat\", \"chased\", \"the\", \"mouse\"],\n",
        "        [\"I\", \"love\", \"parsing\", \"sentences\"],\n",
        "        [\"The\", \"quick\", \"brown\", \"fox\", \"jumps\", \"over\", \"the\", \"lazy\", \"dog\"]\n",
        "    ]\n",
        "    gold_trees = [\n",
        "        [(\"ROOT\", \"chased\"), (\"chased\", \"cat\"), (\"cat\", \"The\"), (\"chased\", \"mouse\"), (\"mouse\", \"the\")],\n",
        "        [(\"ROOT\", \"love\"), (\"love\", \"I\"), (\"love\", \"parsing\"), (\"parsing\", \"sentences\")],\n",
        "        [(\"ROOT\", \"jumps\"), (\"jumps\", \"fox\"), (\"fox\", \"The\"), (\"fox\", \"quick\"), (\"fox\", \"brown\"),\n",
        "         (\"jumps\", \"over\"), (\"over\", \"dog\"), (\"dog\", \"the\"), (\"dog\", \"lazy\")]\n",
        "    ]\n",
        "\n",
        "    # Evaluate the parser\n",
        "    accuracy, metrics, errors = evaluate_parser(parser, test_sentences, gold_trees)\n",
        "\n",
        "    print(f\"Overall Accuracy: {accuracy:.2f}\")\n",
        "    print(f\"Precision: {metrics['precision']:.2f}\")\n",
        "    print(f\"Recall: {metrics['recall']:.2f}\")\n",
        "    print(f\"F1 Score: {metrics['f1_score']:.2f}\")\n",
        "\n",
        "    # Analyze and visualize errors\n",
        "    error_distribution = analyze_errors(errors)\n",
        "    plot_error_distribution(error_distribution)"
      ],
      "metadata": {
        "id": "elboXOBWCCVy",
        "colab": {
          "base_uri": "https://localhost:8080/",
          "height": 569
        },
        "outputId": "ee24c8c9-3281-43ac-e061-7a6e15149244"
      },
      "execution_count": 31,
      "outputs": [
        {
          "output_type": "stream",
          "name": "stdout",
          "text": [
            "Overall Accuracy: 48.40\n",
            "Precision: 0.00\n",
            "Recall: 0.00\n",
            "F1 Score: 0.00\n"
          ]
        },
        {
          "output_type": "display_data",
          "data": {
            "text/plain": [
              "<Figure size 1200x600 with 1 Axes>"
            ],
            "image/png": "[encoded data removed]"
          },
          "metadata": {}
        }
      ]
    },
    {
      "cell_type": "code",
      "source": [],
      "metadata": {
        "id": "xJc3PYeiblN_"
      },
      "execution_count": null,
      "outputs": []
    }
  ]
}