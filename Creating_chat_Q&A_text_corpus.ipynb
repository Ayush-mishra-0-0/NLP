{
  "nbformat": 4,
  "nbformat_minor": 0,
  "metadata": {
    "colab": {
      "provenance": [],
      "authorship_tag": "ABX9TyNuMXorPB1N/M0rtGC/FmMC",
      "include_colab_link": true
    },
    "kernelspec": {
      "name": "python3",
      "display_name": "Python 3"
    },
    "language_info": {
      "name": "python"
    }
  },
  "cells": [
    {
      "cell_type": "markdown",
      "metadata": {
        "id": "view-in-github",
        "colab_type": "text"
      },
      "source": [
        "<a href=\"https://colab.research.google.com/github/Ayush-mishra-0-0/NLP/blob/main/Creating_chat_Q%26A_text_corpus.ipynb\" target=\"_parent\"><img src=\"https://colab.research.google.com/assets/colab-badge.svg\" alt=\"Open In Colab\"/></a>"
      ]
    },
    {
      "cell_type": "code",
      "source": [
        "!pip install langchain pypdf openai chromadb tiktoken docx2txt -q"
      ],
      "metadata": {
        "id": "cKbK8RQVzHSh"
      },
      "execution_count": 15,
      "outputs": []
    },
    {
      "cell_type": "code",
      "source": [
        "!pip install typing-extensions==4.5.0 -q\n",
        "!pip install kaleido -q\n",
        "!pip install python-multipart -q"
      ],
      "metadata": {
        "id": "h-pSL1GE3chM"
      },
      "execution_count": 17,
      "outputs": []
    },
    {
      "cell_type": "code",
      "source": [
        "!pip install --upgrade tensorflow-probability -q"
      ],
      "metadata": {
        "id": "gWsTLLUx4Z9g"
      },
      "execution_count": 19,
      "outputs": []
    },
    {
      "cell_type": "code",
      "source": [
        "import os\n",
        "from langchain.document_loaders import PyPDFLoader\n",
        "from langchain.llms import OpenAI\n",
        "from langchain.chains.question_answering import load_qa_chain\n",
        "os.environ[\"OPENAI_API_KEY\"] = \"sk-\"\n",
        "\n",
        "pdf_loader = PyPDFLoader('/content/Mid_Adobe.pdf')\n",
        "documents = pdf_loader.load()\n",
        "\n",
        "openai_llm = OpenAI(api_key=os.environ.get(\"OPENAI_API_KEY\"))\n",
        "\n",
        "chain = load_qa_chain(llm=openai_llm)\n",
        "query=\"What is Problem-statement?\"\n",
        "response = chain.run(input_documents=documents, question=query, max_tokens=200)\n",
        "\n",
        "print(response)\n"
      ],
      "metadata": {
        "colab": {
          "base_uri": "https://localhost:8080/"
        },
        "id": "gMfiX2RI6hn0",
        "outputId": "0486e5ea-f3da-4179-f763-7874b2cb9916"
      },
      "execution_count": 28,
      "outputs": [
        {
          "output_type": "stream",
          "name": "stdout",
          "text": [
            " The problem statement is the task of predicting user engagement on social media content, such as likes, comments, shares and purchases, based on the content of the tweet (text, company, username, media URLs, timestamp). It also includes generating content that elicits the desired key performance indicators (KPIs) from the audience.\n"
          ]
        }
      ]
    },
    {
      "cell_type": "code",
      "source": [],
      "metadata": {
        "id": "O7uOhtQ_6whC"
      },
      "execution_count": null,
      "outputs": []
    }
  ]
}